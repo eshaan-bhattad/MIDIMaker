{
  "nbformat": 4,
  "nbformat_minor": 0,
  "metadata": {
    "colab": {
      "name": "CMT.ipynb",
      "provenance": [],
      "collapsed_sections": [
        "qqtWL8roL9eJ",
        "-U-5YmbyJ28B",
        "ey6pycGcdPMV"
      ],
      "toc_visible": true,
      "include_colab_link": true
    },
    "kernelspec": {
      "name": "python3",
      "display_name": "Python 3"
    }
  },
  "cells": [
    {
      "cell_type": "markdown",
      "metadata": {
        "id": "view-in-github",
        "colab_type": "text"
      },
      "source": [
        "<a href=\"https://colab.research.google.com/github/eshaan-bhattad/MIDIMaker/blob/master/MIDIMaker.ipynb\" target=\"_parent\"><img src=\"https://colab.research.google.com/assets/colab-badge.svg\" alt=\"Open In Colab\"/></a>"
      ]
    },
    {
      "cell_type": "markdown",
      "metadata": {
        "id": "qqtWL8roL9eJ",
        "colab_type": "text"
      },
      "source": [
        "# Introduction\n",
        "\n",
        "\n",
        "Hi there,\n",
        "\n",
        "Welcome to my automatic MIDI Melody and Drum Creator coded in Python. This program gives a user the ability to create randomly generated melodies and drums. \n",
        "\n",
        "For optimal results, I recommend using 120 BPM for the tempo when it asks for a tempo. \n",
        "\n",
        "Follow the steps in each of the blocks and the program will run fine. \n",
        "\n",
        "Here is a link to a sample song I created using MIDI files from this program: \n",
        ">https://drive.google.com/open?id=1QjWyMzCyBMH8CYhHoZELO0YTw_gUG4gV\n",
        "\n",
        "Here is a link to the Logic File of a sample song made from only files from this program: \n",
        " > https://drive.google.com/open?id=1ZZkJdmpp6cCQRa54vTz8be5ViiQ_FvBm\n",
        " \n",
        "\n",
        "There is a Google Form link at the bottom. Any feedback given is always appreciated :) \n",
        "\n",
        "\n"
      ]
    },
    {
      "cell_type": "markdown",
      "metadata": {
        "id": "pbriG9YAc9eM",
        "colab_type": "text"
      },
      "source": [
        "##Pip Install"
      ]
    },
    {
      "cell_type": "markdown",
      "metadata": {
        "id": "_16tHf8xJik2",
        "colab_type": "text"
      },
      "source": [
        "*This block of code installs the functions and tools that allowed me to build MIDI files.*\n",
        "\n",
        "**Click the Play Button on this block before clicking anything else in order to run the program.**"
      ]
    },
    {
      "cell_type": "code",
      "metadata": {
        "id": "u29z8-017A3_",
        "colab_type": "code",
        "colab": {}
      },
      "source": [
        "pip install MIDIUtil\n"
      ],
      "execution_count": null,
      "outputs": []
    },
    {
      "cell_type": "markdown",
      "metadata": {
        "id": "-U-5YmbyJ28B",
        "colab_type": "text"
      },
      "source": [
        "# Functions and Scales"
      ]
    },
    {
      "cell_type": "markdown",
      "metadata": {
        "id": "lBkI__fYKxZZ",
        "colab_type": "text"
      },
      "source": [
        "*This block contains the various essential libraries I built to run the program. These include MIDI note values, scales and keys.*\n",
        "\n",
        "**Click the Play Button on this block before running the main program as well.**"
      ]
    },
    {
      "cell_type": "code",
      "metadata": {
        "id": "YB3nN7JU_j7A",
        "colab_type": "code",
        "colab": {}
      },
      "source": [
        " ## SCALES\n",
        "import numpy as np\n",
        "import numpy as geek\n",
        "major = [60, 62, 64, 65, 67, 69, 71, 72]\n",
        "natural_minor = [60, 62, 63, 65, 67, 68, 70, 72]\n",
        "harmonic_minor = [60, 62, 63, 65, 67, 68, 71, 72]\n",
        "melodic_minor = [60, 62, 63, 65, 67, 69, 71, 72]\n",
        "major_pentatonic = [60,62,64,67,69,72]\n",
        "scales=[major, natural_minor, harmonic_minor, melodic_minor, major_pentatonic]\n",
        "scaleName = [\"Major\",\"Natural Minor\",\"Harmonic Minor\",\"Melodic Minor\",\"Major Pentatonic\"]\n",
        "notes = [\"C\",\"C#\",\"D\",\"D#\",\"E\",\"F\",\"F#\",\"G\",\"G#\",\"A\",\"A#\",\"B\"]\n",
        "drums = [\"hi-hat\",\"kick\",\"snare\",\"ride cymbal\",\"crash\",\"clap\"]\n",
        "drumMIDINote = [42,36,48,59,57,39]\n",
        "drumtiming = [.2,1,2,.5,1,2]\n",
        "def getScaleSet():\n",
        "    return scaleName;\n",
        "def getScale(num,key):\n",
        "    scale = key_shifter(key,scales[num])\n",
        "    return scale;\n",
        "def key_shifter(key,scalen):\n",
        "    shifter = notes.index(key)\n",
        "    real_scale = np.array(scalen)\n",
        "    real_scale = real_scale + shifter\n",
        "    return real_scale;\n",
        "def scaleRandomizer(set): \n",
        "    generatedArray = geek.random.randint(low = 0, high = len(set), size = 8)\n",
        "    melody = []\n",
        "    for i in range(len(generatedArray)): \n",
        "        melody.append(set[generatedArray[i]])\n",
        "    return melody;\n",
        "def printArray(array):\n",
        "    for x in range(len(array)): \n",
        "      print(str(x+1)+\". \"+array[x])\n",
        "    return;\n",
        "def getDrumKit():\n",
        "  return drums;\n",
        "def getDrumMelody(number, length):\n",
        "  instrument = getDrumName(number)\n",
        "  style = []\n",
        "  for x in range(length): \n",
        "    style.append(instrument);\n",
        "  return style;\n",
        "def getDrumName(drumtype):\n",
        "  return drumMIDINote[drumtype-1];\n",
        "def getDrumTiming(typer):\n",
        "  return drumtiming[typer-1];\n",
        "def thankYou():\n",
        "  print(\"\\n\\nThanks for using the Instrument Automator!\\n\\n\")\n",
        "  print(\"In order to download the files, follow the instructions: \\n\\n\")\n",
        "  print(\"Step 1: Click on the files tab on the left side of the screen \\n\\n\")\n",
        "  print(\"Step 2: Double Click the name of the file you want to download \\n\\n\")\n",
        "  print(\"Step 3: Open Logic X and drag and drop the MIDI file into the program\\n\\n\")\n",
        "  print(\"Step 4: Choose a Software Instrument, rearrange the music, and have fun literally Creating Music with Technology\\n\\n\")\n",
        "  return;"
      ],
      "execution_count": null,
      "outputs": []
    },
    {
      "cell_type": "markdown",
      "metadata": {
        "id": "ey6pycGcdPMV",
        "colab_type": "text"
      },
      "source": [
        "\n",
        "\n",
        "#MIDI Melody Generation\n"
      ]
    },
    {
      "cell_type": "markdown",
      "metadata": {
        "id": "z4exy0leJvke",
        "colab_type": "text"
      },
      "source": [
        ">*This first block is where I created the function that generates melodic patterns. It takes in various inputs and parameters and creates the MIDI file for the a melody.*\n",
        "\n",
        ">**Click the Play Button on this block of code**\n",
        "\n",
        "\n",
        "\n"
      ]
    },
    {
      "cell_type": "code",
      "metadata": {
        "id": "rN2s1pO-7U6G",
        "colab_type": "code",
        "colab": {}
      },
      "source": [
        "from midiutil import MIDIFile\n",
        "from random import random\n",
        "\n",
        "\n",
        "\n",
        "def generateMelody():\n",
        "  name = str(input(\"What would you like to name the track: \\n\\n\")) ##Naming the Track\n",
        "\n",
        "  printArray(notes) #Shows the Keys\n",
        "  key = str(input(\"What key would you like to generate a melody in:  \\n\\n\")) #Key Selector\n",
        "\n",
        "  printArray(getScaleSet()) #Prints Scales\n",
        "  scale = int(input(\"From the printed array, enter the number of the scale you want:\\n\\n\"))-1 ## Scale Selector\n",
        "  degrees  = getScale(scale,key) # MIDI note number # Final Melody\n",
        "  track    = 0 \n",
        "  channel  = 0\n",
        "  time     = 32   # In beats\n",
        "  duration = 32   # In beats\n",
        "  tempo    = int(input(\"Enter the tempo of your song\\n\\n\"))   # In BPM\n",
        "  volume   = 100  # 0-127, as per the MIDI standard\n",
        "\n",
        "\n",
        "  MyMIDI = MIDIFile(1)  # One track, defaults to format 1 (tempo track is created\n",
        "                      # automatically)\n",
        "  MyMIDI.addTempo(track, time, tempo) #Creates Tempo \n",
        "  for i in range(1):\n",
        "    melody = scaleRandomizer(degrees) #Randomizes Scale \n",
        "    for i, pitch in enumerate(melody):\n",
        "      MyMIDI.addNote(track, channel, pitch, time + i, duration, volume) #Creates Notes\n",
        "    with open(name+\".mid\", \"wb\") as output_file:\n",
        "      MyMIDI.writeFile(output_file) #Writes output file\n",
        "  return;"
      ],
      "execution_count": null,
      "outputs": []
    },
    {
      "cell_type": "markdown",
      "metadata": {
        "id": "8K8m-7xpKHqa",
        "colab_type": "text"
      },
      "source": [
        ">*The second block of code is where I created the function that creates drums and drum instruments, allowing a user to create multiple drum tracks*\n",
        "\n",
        ">**Click the Play Button on this block of code**"
      ]
    },
    {
      "cell_type": "code",
      "metadata": {
        "id": "PB0knec-KVKP",
        "colab_type": "code",
        "colab": {}
      },
      "source": [
        "from midiutil import MIDIFile\n",
        "from random import random\n",
        "\n",
        "\n",
        "def generateDrums(): \n",
        "\n",
        "\n",
        "  printArray(getDrumKit())\n",
        "  drums = getDrumKit()\n",
        "  typeOfDrum = int(input(\"Enter the number of what drum instrument you want:\\n\\n\"))\n",
        "  drumSequence = \"hello\"\n",
        "  drumSequence = getDrumMelody(typeOfDrum, 8)\n",
        "  print(drumSequence)\n",
        "\n",
        "\n",
        "  track    = 0 \n",
        "  channel  = 0\n",
        "  time     = 4   # In beats\n",
        "  duration = 2   # In beats\n",
        "  tempo    = int(input(\"Enter the tempo of your song\\n\\n\"))   # In BPM\n",
        "  volume   = 100  # 0-127, as per the MIDI standard\n",
        "\n",
        "\n",
        "  MyMIDI = MIDIFile(1)  # One track, defaults to format 1 (tempo track is created\n",
        "                      # automatically)\n",
        "  MyMIDI.addTempo(track, time, tempo) #Creates Tempo \n",
        "\n",
        "  z=1\n",
        "  z=getDrumTiming(typeOfDrum)\n",
        "  name = str(input(\"What would you like to name the track: \\n\\n\")) ##Naming the Track\n",
        "\n",
        "\n",
        "\n",
        "  for i in range(1):\n",
        "    for i, pitch in enumerate(drumSequence):\n",
        "      MyMIDI.addNote(track, channel, pitch, time +(z)*i, duration, volume) #Creates Notes\n",
        "    with open(name+\".mid\", \"wb\") as output_file:\n",
        "      MyMIDI.writeFile(output_file) #Writes output file\n",
        "  return;\n",
        "    "
      ],
      "execution_count": null,
      "outputs": []
    },
    {
      "cell_type": "markdown",
      "metadata": {
        "id": "DWs6E6jFZCAd",
        "colab_type": "text"
      },
      "source": [
        "# Main Program"
      ]
    },
    {
      "cell_type": "markdown",
      "metadata": {
        "id": "VXM9TAkQLmyX",
        "colab_type": "text"
      },
      "source": [
        ">*This is the main program block.* \n",
        "\n",
        "\n",
        ">**Click the play button and follow the instructions for each input and you will have a song ready :)**"
      ]
    },
    {
      "cell_type": "code",
      "metadata": {
        "id": "PH-AyGIgYESz",
        "colab_type": "code",
        "colab": {}
      },
      "source": [
        "\n",
        "generateMelody()\n",
        "response = str(input(\"Would you like to create a drum instrument?(yes/no) \\n\\n\"))\n",
        "while(response==\"yes\"):\n",
        "  generateDrums()\n",
        "  response = str(input(\"Would you like to create another drum instrument? \\n\\n\"))\n",
        "thankYou()\n"
      ],
      "execution_count": null,
      "outputs": []
    },
    {
      "cell_type": "markdown",
      "metadata": {
        "id": "TS7wAdu5MkXe",
        "colab_type": "text"
      },
      "source": [
        "# Survey\n"
      ]
    },
    {
      "cell_type": "markdown",
      "metadata": {
        "id": "AWTuyOCnMtNV",
        "colab_type": "text"
      },
      "source": [
        "You have reached the end! \n",
        "\n",
        "The link to the survey is https://forms.gle/9rfM3K9vm6XsnYYj6\n",
        "\n"
      ]
    }
  ]
}